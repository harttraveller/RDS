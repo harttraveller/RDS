{
 "cells": [
  {
   "cell_type": "markdown",
   "metadata": {},
   "source": [
    "Import"
   ]
  },
  {
   "cell_type": "code",
   "execution_count": 1,
   "metadata": {},
   "outputs": [],
   "source": [
    "from RDS import *"
   ]
  },
  {
   "cell_type": "markdown",
   "metadata": {},
   "source": [
    "Instantiate"
   ]
  },
  {
   "cell_type": "code",
   "execution_count": 2,
   "metadata": {},
   "outputs": [
    {
     "name": "stdout",
     "output_type": "stream",
     "text": [
      "Successfully connected to Reddit API\n"
     ]
    }
   ],
   "source": [
    "rds = RDS(client_id=\"<insert here>\", client_secret=\"<insert here>\")"
   ]
  },
  {
   "cell_type": "markdown",
   "metadata": {},
   "source": [
    "Download"
   ]
  },
  {
   "cell_type": "code",
   "execution_count": 14,
   "metadata": {},
   "outputs": [
    {
     "name": "stderr",
     "output_type": "stream",
     "text": [
      "100%|████████████████████████████████████████████████████████████████████████████████████| 1/1 [00:01<00:00,  1.32s/it]\n"
     ]
    }
   ],
   "source": [
    "rds.download('worldnews',start=(2020,1,1),end=(2020,1,1))"
   ]
  },
  {
   "cell_type": "markdown",
   "metadata": {},
   "source": [
    "Export"
   ]
  },
  {
   "cell_type": "code",
   "execution_count": 15,
   "metadata": {},
   "outputs": [],
   "source": [
    "data = rds.export()"
   ]
  },
  {
   "cell_type": "markdown",
   "metadata": {},
   "source": [
    "Complete"
   ]
  },
  {
   "cell_type": "code",
   "execution_count": 16,
   "metadata": {},
   "outputs": [
    {
     "data": {
      "text/html": [
       "<div>\n",
       "<style scoped>\n",
       "    .dataframe tbody tr th:only-of-type {\n",
       "        vertical-align: middle;\n",
       "    }\n",
       "\n",
       "    .dataframe tbody tr th {\n",
       "        vertical-align: top;\n",
       "    }\n",
       "\n",
       "    .dataframe thead th {\n",
       "        text-align: right;\n",
       "    }\n",
       "</style>\n",
       "<table border=\"1\" class=\"dataframe\">\n",
       "  <thead>\n",
       "    <tr style=\"text-align: right;\">\n",
       "      <th></th>\n",
       "      <th>posted</th>\n",
       "      <th>id</th>\n",
       "      <th>subreddit</th>\n",
       "      <th>author</th>\n",
       "      <th>flair</th>\n",
       "      <th>title</th>\n",
       "      <th>text</th>\n",
       "      <th>score</th>\n",
       "      <th>upvotes</th>\n",
       "      <th>downvotes</th>\n",
       "      <th>upvote_ratio</th>\n",
       "      <th>controversiality</th>\n",
       "      <th>comments</th>\n",
       "      <th>url</th>\n",
       "    </tr>\n",
       "  </thead>\n",
       "  <tbody>\n",
       "    <tr>\n",
       "      <th>0</th>\n",
       "      <td>2020-01-01</td>\n",
       "      <td>eisi0c</td>\n",
       "      <td>worldnews</td>\n",
       "      <td>adarshnair2056</td>\n",
       "      <td>Feature Story</td>\n",
       "      <td>Plastic bags are now banned in Mexico City</td>\n",
       "      <td></td>\n",
       "      <td>5484</td>\n",
       "      <td>5654.0</td>\n",
       "      <td>170.0</td>\n",
       "      <td>0.97</td>\n",
       "      <td>0.06</td>\n",
       "      <td>225</td>\n",
       "      <td>https://www.insider.com/mexico-city-plastic-ba...</td>\n",
       "    </tr>\n",
       "    <tr>\n",
       "      <th>1</th>\n",
       "      <td>2020-01-01</td>\n",
       "      <td>eit2ij</td>\n",
       "      <td>worldnews</td>\n",
       "      <td>maxwellhill</td>\n",
       "      <td>None</td>\n",
       "      <td>ExxonMobil Wishes Australia a 'Fun' New Year a...</td>\n",
       "      <td></td>\n",
       "      <td>4767</td>\n",
       "      <td>5071.0</td>\n",
       "      <td>304.0</td>\n",
       "      <td>0.94</td>\n",
       "      <td>0.12</td>\n",
       "      <td>323</td>\n",
       "      <td>https://earther.gizmodo.com/exxonmobil-wishes-...</td>\n",
       "    </tr>\n",
       "    <tr>\n",
       "      <th>2</th>\n",
       "      <td>2020-01-01</td>\n",
       "      <td>eitjvr</td>\n",
       "      <td>worldnews</td>\n",
       "      <td>DoremusJessup</td>\n",
       "      <td>None</td>\n",
       "      <td>Thousands of tourists have been given less tha...</td>\n",
       "      <td></td>\n",
       "      <td>2118</td>\n",
       "      <td>2184.0</td>\n",
       "      <td>66.0</td>\n",
       "      <td>0.97</td>\n",
       "      <td>0.06</td>\n",
       "      <td>138</td>\n",
       "      <td>https://www.france24.com/en/20200102-australia...</td>\n",
       "    </tr>\n",
       "    <tr>\n",
       "      <th>3</th>\n",
       "      <td>2020-01-01</td>\n",
       "      <td>eiraz9</td>\n",
       "      <td>worldnews</td>\n",
       "      <td>None</td>\n",
       "      <td>None</td>\n",
       "      <td>2019 was Australia's hottest year on record – ...</td>\n",
       "      <td></td>\n",
       "      <td>954</td>\n",
       "      <td>1015.0</td>\n",
       "      <td>61.0</td>\n",
       "      <td>0.94</td>\n",
       "      <td>0.12</td>\n",
       "      <td>91</td>\n",
       "      <td>https://www.theguardian.com/australia-news/202...</td>\n",
       "    </tr>\n",
       "    <tr>\n",
       "      <th>4</th>\n",
       "      <td>2020-01-01</td>\n",
       "      <td>eis7do</td>\n",
       "      <td>worldnews</td>\n",
       "      <td>gulabjamunyaar</td>\n",
       "      <td>None</td>\n",
       "      <td>Taiwan passes bill against China influence ahe...</td>\n",
       "      <td></td>\n",
       "      <td>371</td>\n",
       "      <td>403.0</td>\n",
       "      <td>32.0</td>\n",
       "      <td>0.92</td>\n",
       "      <td>0.16</td>\n",
       "      <td>13</td>\n",
       "      <td>https://www.hongkongfp.com/2020/01/02/taiwan-p...</td>\n",
       "    </tr>\n",
       "  </tbody>\n",
       "</table>\n",
       "</div>"
      ],
      "text/plain": [
       "       posted      id  subreddit          author          flair  \\\n",
       "0  2020-01-01  eisi0c  worldnews  adarshnair2056  Feature Story   \n",
       "1  2020-01-01  eit2ij  worldnews     maxwellhill           None   \n",
       "2  2020-01-01  eitjvr  worldnews   DoremusJessup           None   \n",
       "3  2020-01-01  eiraz9  worldnews            None           None   \n",
       "4  2020-01-01  eis7do  worldnews  gulabjamunyaar           None   \n",
       "\n",
       "                                               title text  score  upvotes  \\\n",
       "0         Plastic bags are now banned in Mexico City        5484   5654.0   \n",
       "1  ExxonMobil Wishes Australia a 'Fun' New Year a...        4767   5071.0   \n",
       "2  Thousands of tourists have been given less tha...        2118   2184.0   \n",
       "3  2019 was Australia's hottest year on record – ...         954   1015.0   \n",
       "4  Taiwan passes bill against China influence ahe...         371    403.0   \n",
       "\n",
       "   downvotes  upvote_ratio  controversiality  comments  \\\n",
       "0      170.0          0.97              0.06       225   \n",
       "1      304.0          0.94              0.12       323   \n",
       "2       66.0          0.97              0.06       138   \n",
       "3       61.0          0.94              0.12        91   \n",
       "4       32.0          0.92              0.16        13   \n",
       "\n",
       "                                                 url  \n",
       "0  https://www.insider.com/mexico-city-plastic-ba...  \n",
       "1  https://earther.gizmodo.com/exxonmobil-wishes-...  \n",
       "2  https://www.france24.com/en/20200102-australia...  \n",
       "3  https://www.theguardian.com/australia-news/202...  \n",
       "4  https://www.hongkongfp.com/2020/01/02/taiwan-p...  "
      ]
     },
     "execution_count": 16,
     "metadata": {},
     "output_type": "execute_result"
    }
   ],
   "source": [
    "data.head()"
   ]
  },
  {
   "cell_type": "code",
   "execution_count": null,
   "metadata": {},
   "outputs": [],
   "source": []
  }
 ],
 "metadata": {
  "kernelspec": {
   "display_name": "Python 3",
   "language": "python",
   "name": "python3"
  },
  "language_info": {
   "codemirror_mode": {
    "name": "ipython",
    "version": 3
   },
   "file_extension": ".py",
   "mimetype": "text/x-python",
   "name": "python",
   "nbconvert_exporter": "python",
   "pygments_lexer": "ipython3",
   "version": "3.8.3"
  }
 },
 "nbformat": 4,
 "nbformat_minor": 4
}
